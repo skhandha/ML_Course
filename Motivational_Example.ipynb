{
  "nbformat": 4,
  "nbformat_minor": 0,
  "metadata": {
    "colab": {
      "provenance": []
    },
    "kernelspec": {
      "name": "python3",
      "display_name": "Python 3"
    },
    "language_info": {
      "name": "python"
    }
  },
  "cells": [
    {
      "cell_type": "markdown",
      "source": [
        "# Motivational Example\n",
        "Concepts will be covered:\n",
        "- Regression, classification\n",
        "- Flattening\n",
        "- ReLU, Softmax\n",
        "- Dropout\n",
        "- Training and Testing"
      ],
      "metadata": {
        "id": "TzEWFSryROLS"
      }
    },
    {
      "cell_type": "markdown",
      "source": [
        "# Import Libraries"
      ],
      "metadata": {
        "id": "NZh4LeBURcLP"
      }
    },
    {
      "cell_type": "code",
      "execution_count": null,
      "metadata": {
        "colab": {
          "base_uri": "https://localhost:8080/"
        },
        "id": "MgcYmYRxRLWw",
        "outputId": "c4747abe-7353-41eb-a0b2-91fa05e5b318"
      },
      "outputs": [
        {
          "output_type": "stream",
          "name": "stdout",
          "text": [
            "Colab only includes TensorFlow 2.x; %tensorflow_version has no effect.\n"
          ]
        }
      ],
      "source": [
        "import numpy as np\n",
        "try:\n",
        "  %tensorflow_version 2.x\n",
        "except Exception:\n",
        "  pass\n",
        "import tensorflow as tf"
      ]
    },
    {
      "cell_type": "markdown",
      "source": [
        "# Preparing the Training Data\n",
        "Load MNIST dataset as distributed with keras"
      ],
      "metadata": {
        "id": "xrtfLmIcSIwr"
      }
    },
    {
      "cell_type": "code",
      "source": [
        "mnist = tf.keras.datasets.mnist\n",
        "(x_train, y_train), (x_test, y_test) = mnist.load_data()"
      ],
      "metadata": {
        "colab": {
          "base_uri": "https://localhost:8080/"
        },
        "id": "CtOXcR_HSPZn",
        "outputId": "f4b9ae03-3887-4dda-9f68-b1e713deee95"
      },
      "execution_count": null,
      "outputs": [
        {
          "output_type": "stream",
          "name": "stdout",
          "text": [
            "Downloading data from https://storage.googleapis.com/tensorflow/tf-keras-datasets/mnist.npz\n",
            "11490434/11490434 [==============================] - 0s 0us/step\n"
          ]
        }
      ]
    },
    {
      "cell_type": "code",
      "source": [
        "print(x_train.shape)\n",
        "print(x_test.shape)\n",
        "print(y_train.shape)\n",
        "print(y_test.shape)"
      ],
      "metadata": {
        "colab": {
          "base_uri": "https://localhost:8080/"
        },
        "id": "0h_GmXNgSb4t",
        "outputId": "cbed8bf9-5374-4da6-c32c-42fe5b3c64b1"
      },
      "execution_count": null,
      "outputs": [
        {
          "output_type": "stream",
          "name": "stdout",
          "text": [
            "(60000, 28, 28)\n",
            "(10000, 28, 28)\n",
            "(60000,)\n",
            "(10000,)\n"
          ]
        }
      ]
    },
    {
      "cell_type": "code",
      "source": [
        "import matplotlib.pyplot as plt\n",
        "plt.imshow(x_train[0], cmap='Greys');"
      ],
      "metadata": {
        "colab": {
          "base_uri": "https://localhost:8080/",
          "height": 430
        },
        "id": "QSj_6_W4SlLf",
        "outputId": "a1b459da-1584-4d86-fd8e-93fc67aafde2"
      },
      "execution_count": null,
      "outputs": [
        {
          "output_type": "display_data",
          "data": {
            "text/plain": [
              "<Figure size 640x480 with 1 Axes>"
            ],
            "image/png": "[encoded data removed]"
          },
          "metadata": {}
        }
      ]
    },
    {
      "cell_type": "markdown",
      "source": [
        "**Data preparation:**\n",
        "- the data came in the form of uint8 with value in the [0,255] range. We need to transform it into Python float32 array with values between 0 and 1."
      ],
      "metadata": {
        "id": "Wy9LLw7lSvGo"
      }
    },
    {
      "cell_type": "code",
      "source": [
        "x_train, x_test = x_train / 255.0, x_test / 255.0"
      ],
      "metadata": {
        "id": "BNg7fvrtS-4e"
      },
      "execution_count": null,
      "outputs": []
    },
    {
      "cell_type": "markdown",
      "source": [
        "# Defining, Compiling, and Fitting Our Model\n",
        "\n",
        "**Model 1:**\n",
        "Our network has 3 layers:\n",
        "- **First Layer: Input** tf.keras.layers.Flatten - This layer flattens the digit images from a 2-d array of 28 X 28 pixels, to a 1-d array of 784 pixels (28*28).\n",
        "- **Second Layer: Hidden** tf.keras.layers.Dense - A densely connected layer of 512 neurons. Each neuron (or node) takes input from all 784 nodes in the previous layer. Recall that we flattened the image.\n",
        "- **Output** tf.keras.layers.Dense - A 10-mode softmax layer, with each node representing each of the digit class. As in the previous layer, each node takes input from the 512 nodes in the layer before it. Each node weighs the input according to learned parameters, and then outputs a value in the range [0,1], representing the probability that the image belongs to that class. The sum of all 10 node values is 1."
      ],
      "metadata": {
        "id": "ukInlEvYTFDL"
      }
    },
    {
      "cell_type": "code",
      "source": [
        "model = tf.keras.Sequential([\n",
        "    tf.keras.layers.Flatten(input_shape=(28,28)),\n",
        "    tf.keras.layers.Dense(units=512, activation='relu'),\n",
        "    tf.keras.layers.Dense(units=10, activation='softmax')\n",
        "])\n",
        "model.summary()\n",
        "model.compile(optimizer='rmsprop', loss='sparse_categorical_crossentropy',\n",
        "              metrics=['accuracy'])\n",
        "h = model.fit(x_train, y_train, epochs=10, batch_size=256)"
      ],
      "metadata": {
        "colab": {
          "base_uri": "https://localhost:8080/"
        },
        "id": "WCbE2lpjUGQD",
        "outputId": "5fa4f8ce-145f-434f-a710-57c5574fc137"
      },
      "execution_count": null,
      "outputs": [
        {
          "output_type": "stream",
          "name": "stdout",
          "text": [
            "Model: \"sequential\"\n",
            "_________________________________________________________________\n",
            " Layer (type)                Output Shape              Param #   \n",
            "=================================================================\n",
            " flatten (Flatten)           (None, 784)               0         \n",
            "                                                                 \n",
            " dense (Dense)               (None, 512)               401920    \n",
            "                                                                 \n",
            " dense_1 (Dense)             (None, 10)                5130      \n",
            "                                                                 \n",
            "=================================================================\n",
            "Total params: 407,050\n",
            "Trainable params: 407,050\n",
            "Non-trainable params: 0\n",
            "_________________________________________________________________\n",
            "Epoch 1/10\n",
            "235/235 [==============================] - 5s 18ms/step - loss: 0.3287 - accuracy: 0.9064\n",
            "Epoch 2/10\n",
            "235/235 [==============================] - 4s 17ms/step - loss: 0.1375 - accuracy: 0.9603\n",
            "Epoch 3/10\n",
            "235/235 [==============================] - 3s 15ms/step - loss: 0.0927 - accuracy: 0.9737\n",
            "Epoch 4/10\n",
            "235/235 [==============================] - 4s 15ms/step - loss: 0.0688 - accuracy: 0.9803\n",
            "Epoch 5/10\n",
            "235/235 [==============================] - 5s 20ms/step - loss: 0.0530 - accuracy: 0.9849\n",
            "Epoch 6/10\n",
            "235/235 [==============================] - 3s 15ms/step - loss: 0.0420 - accuracy: 0.9880\n",
            "Epoch 7/10\n",
            "235/235 [==============================] - 4s 15ms/step - loss: 0.0339 - accuracy: 0.9904\n",
            "Epoch 8/10\n",
            "235/235 [==============================] - 5s 21ms/step - loss: 0.0271 - accuracy: 0.9923\n",
            "Epoch 9/10\n",
            "235/235 [==============================] - 4s 19ms/step - loss: 0.0215 - accuracy: 0.9944\n",
            "Epoch 10/10\n",
            "235/235 [==============================] - 4s 19ms/step - loss: 0.0172 - accuracy: 0.9961\n"
          ]
        }
      ]
    },
    {
      "cell_type": "markdown",
      "source": [
        "The \"batch_size\" tells \"model.fit\" to update the model variables after every batch of 256 images."
      ],
      "metadata": {
        "id": "WaBcVdg9Uyts"
      }
    },
    {
      "cell_type": "code",
      "source": [
        "import matplotlib.pyplot as plt\n",
        "plt.xlabel('Epoch Number')\n",
        "plt.ylabel('Loss Magnitude')\n",
        "plt.plot(h.history['loss'])"
      ],
      "metadata": {
        "colab": {
          "base_uri": "https://localhost:8080/",
          "height": 467
        },
        "id": "g7EG4Ry8U4VM",
        "outputId": "1c8933d5-7198-4cd0-8354-062cdf27d911"
      },
      "execution_count": null,
      "outputs": [
        {
          "output_type": "execute_result",
          "data": {
            "text/plain": [
              "[<matplotlib.lines.Line2D at 0x7a54eccb37f0>]"
            ]
          },
          "metadata": {},
          "execution_count": 8
        },
        {
          "output_type": "display_data",
          "data": {
            "text/plain": [
              "<Figure size 640x480 with 1 Axes>"
            ],
            "image/png": "[encoded data removed]"
          },
          "metadata": {}
        }
      ]
    },
    {
      "cell_type": "code",
      "source": [
        "eval_loss, eval_acc = model.evaluate(x_test,\n",
        "                                     y_test)\n",
        "print('Test accuracy: {}'.format(eval_acc))"
      ],
      "metadata": {
        "colab": {
          "base_uri": "https://localhost:8080/"
        },
        "id": "e1zTK0hDVCjQ",
        "outputId": "9e3faa32-b4c0-4651-99b3-b0e10e028f38"
      },
      "execution_count": null,
      "outputs": [
        {
          "output_type": "stream",
          "name": "stdout",
          "text": [
            "313/313 [==============================] - 1s 4ms/step - loss: 0.0606 - accuracy: 0.9811\n",
            "Test accuracy: 0.9811000227928162\n"
          ]
        }
      ]
    },
    {
      "cell_type": "markdown",
      "source": [
        "# Model 2\n",
        "- Smaller architecture (128).\n",
        "- Dropout is 20%, so 20% of the neurons get dropped randomly. Does not allow it to \"memorize\" the training data. The regularize your model, to be able to generalize better."
      ],
      "metadata": {
        "id": "EPRyoKK3V4dV"
      }
    },
    {
      "cell_type": "code",
      "source": [
        "model2 = tf.keras.models.Sequential([\n",
        "    tf.keras.layers.Flatten(input_shape=(28,28)),\n",
        "    tf.keras.layers.Dense(128, activation='relu'),\n",
        "    tf.keras.layers.Dropout(0.2),\n",
        "    tf.keras.layers.Dense(10, activation='softmax')\n",
        "])\n",
        "model2.summary()\n",
        "model2.compile(optimizer='adam',\n",
        "               loss='sparse_categorical_crossentropy',\n",
        "               metrics=['accuracy'])\n",
        "h = model2.fit(x_train, y_train,\n",
        "               epochs=10,\n",
        "               batch_size=256)"
      ],
      "metadata": {
        "colab": {
          "base_uri": "https://localhost:8080/"
        },
        "id": "UQJnkbDrWDwr",
        "outputId": "35f727d8-b341-493f-9f96-1510b4a0353d"
      },
      "execution_count": null,
      "outputs": [
        {
          "output_type": "stream",
          "name": "stdout",
          "text": [
            "Model: \"sequential_1\"\n",
            "_________________________________________________________________\n",
            " Layer (type)                Output Shape              Param #   \n",
            "=================================================================\n",
            " flatten_1 (Flatten)         (None, 784)               0         \n",
            "                                                                 \n",
            " dense_2 (Dense)             (None, 128)               100480    \n",
            "                                                                 \n",
            " dropout (Dropout)           (None, 128)               0         \n",
            "                                                                 \n",
            " dense_3 (Dense)             (None, 10)                1290      \n",
            "                                                                 \n",
            "=================================================================\n",
            "Total params: 101,770\n",
            "Trainable params: 101,770\n",
            "Non-trainable params: 0\n",
            "_________________________________________________________________\n",
            "Epoch 1/10\n",
            "235/235 [==============================] - 3s 8ms/step - loss: 0.4939 - accuracy: 0.8605\n",
            "Epoch 2/10\n",
            "235/235 [==============================] - 2s 8ms/step - loss: 0.2278 - accuracy: 0.9357\n",
            "Epoch 3/10\n",
            "235/235 [==============================] - 3s 13ms/step - loss: 0.1761 - accuracy: 0.9494\n",
            "Epoch 4/10\n",
            "235/235 [==============================] - 3s 15ms/step - loss: 0.1465 - accuracy: 0.9581\n",
            "Epoch 5/10\n",
            "235/235 [==============================] - 4s 18ms/step - loss: 0.1244 - accuracy: 0.9645\n",
            "Epoch 6/10\n",
            "235/235 [==============================] - 3s 13ms/step - loss: 0.1100 - accuracy: 0.9680\n",
            "Epoch 7/10\n",
            "235/235 [==============================] - 3s 14ms/step - loss: 0.0990 - accuracy: 0.9706\n",
            "Epoch 8/10\n",
            "235/235 [==============================] - 4s 17ms/step - loss: 0.0890 - accuracy: 0.9737\n",
            "Epoch 9/10\n",
            "235/235 [==============================] - 4s 16ms/step - loss: 0.0805 - accuracy: 0.9762\n",
            "Epoch 10/10\n",
            "235/235 [==============================] - 2s 10ms/step - loss: 0.0726 - accuracy: 0.9782\n"
          ]
        }
      ]
    },
    {
      "cell_type": "code",
      "source": [
        "import matplotlib.pyplot as plt\n",
        "plt.xlabel('Epoch Number')\n",
        "plt.ylabel('Loss Magnitude')\n",
        "plt.plot(h.history['loss'])"
      ],
      "metadata": {
        "colab": {
          "base_uri": "https://localhost:8080/",
          "height": 467
        },
        "id": "uPJ47C-5XAQk",
        "outputId": "33ae7afa-b7c0-455f-d7be-2291670f0c12"
      },
      "execution_count": null,
      "outputs": [
        {
          "output_type": "execute_result",
          "data": {
            "text/plain": [
              "[<matplotlib.lines.Line2D at 0x7a550e3fffa0>]"
            ]
          },
          "metadata": {},
          "execution_count": 11
        },
        {
          "output_type": "display_data",
          "data": {
            "text/plain": [
              "<Figure size 640x480 with 1 Axes>"
            ],
            "image/png": "[encoded data removed]"
          },
          "metadata": {}
        }
      ]
    },
    {
      "cell_type": "code",
      "source": [
        "eval_loss, eval_acc = model2.evaluate(x_test, y_test)\n",
        "print(\"Test Accuracy: {}\".format(eval_acc))"
      ],
      "metadata": {
        "colab": {
          "base_uri": "https://localhost:8080/"
        },
        "id": "tcchMgN8XMLR",
        "outputId": "352f5382-f2fb-46b4-84cf-582b1ae39842"
      },
      "execution_count": null,
      "outputs": [
        {
          "output_type": "stream",
          "name": "stdout",
          "text": [
            "313/313 [==============================] - 2s 5ms/step - loss: 0.0763 - accuracy: 0.9767\n",
            "Test Accuracy: 0.9767000079154968\n"
          ]
        }
      ]
    },
    {
      "cell_type": "code",
      "source": [
        "img = x_test[0]\n",
        "print(img.shape)\n",
        "img = np.array([img])\n",
        "print(img.shape)"
      ],
      "metadata": {
        "colab": {
          "base_uri": "https://localhost:8080/"
        },
        "id": "YzQz6Ev0YCbO",
        "outputId": "ea3955be-9893-4335-d465-b0ef6dfeb07e"
      },
      "execution_count": null,
      "outputs": [
        {
          "output_type": "stream",
          "name": "stdout",
          "text": [
            "(28, 28)\n",
            "(1, 28, 28)\n"
          ]
        }
      ]
    },
    {
      "cell_type": "code",
      "source": [
        "prediction = model2.predict(img)\n",
        "np.set_printoptions(formatter={'float': '{: 0.2f}'.format})\n",
        "print(prediction * 100)"
      ],
      "metadata": {
        "colab": {
          "base_uri": "https://localhost:8080/"
        },
        "id": "kM7j8ziOYLYQ",
        "outputId": "d2705a48-c948-4814-a325-9251f3a8be51"
      },
      "execution_count": null,
      "outputs": [
        {
          "output_type": "stream",
          "name": "stdout",
          "text": [
            "1/1 [==============================] - 0s 30ms/step\n",
            "[[ 0.00  0.00  0.01  0.09  0.00  0.00  0.00  99.90  0.00  0.00]]\n"
          ]
        }
      ]
    },
    {
      "cell_type": "code",
      "source": [
        "np.argmax(prediction[0])"
      ],
      "metadata": {
        "colab": {
          "base_uri": "https://localhost:8080/"
        },
        "id": "nOAfvHpUYjQf",
        "outputId": "d52e601a-88f6-4ae3-b04d-b1b5d4d707c7"
      },
      "execution_count": null,
      "outputs": [
        {
          "output_type": "execute_result",
          "data": {
            "text/plain": [
              "7"
            ]
          },
          "metadata": {},
          "execution_count": 16
        }
      ]
    },
    {
      "cell_type": "code",
      "source": [
        "y_test[0]"
      ],
      "metadata": {
        "colab": {
          "base_uri": "https://localhost:8080/"
        },
        "id": "sbS5KY5KYl4a",
        "outputId": "9057b43f-85b5-4343-8b1e-bed138858bcc"
      },
      "execution_count": null,
      "outputs": [
        {
          "output_type": "execute_result",
          "data": {
            "text/plain": [
              "7"
            ]
          },
          "metadata": {},
          "execution_count": 17
        }
      ]
    }
  ]
}
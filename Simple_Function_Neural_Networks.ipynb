{
  "nbformat": 4,
  "nbformat_minor": 0,
  "metadata": {
    "colab": {
      "provenance": []
    },
    "kernelspec": {
      "name": "python3",
      "display_name": "Python 3"
    },
    "language_info": {
      "name": "python"
    }
  },
  "cells": [
    {
      "cell_type": "code",
      "execution_count": null,
      "metadata": {
        "colab": {
          "base_uri": "https://localhost:8080/"
        },
        "id": "vjwP2jPE5XVA",
        "outputId": "57c81c0a-486d-4f38-ce2c-2bb377f8cfea"
      },
      "outputs": [
        {
          "output_type": "stream",
          "name": "stdout",
          "text": [
            "Colab only includes TensorFlow 2.x; %tensorflow_version has no effect.\n"
          ]
        }
      ],
      "source": [
        "import numpy as np\n",
        "try:\n",
        "  %tensorflow_version 2.x\n",
        "except Exception:\n",
        "  pass\n",
        "\n",
        "\n",
        "import tensorflow as tf"
      ]
    },
    {
      "cell_type": "markdown",
      "source": [
        "# Preparing the Training Data"
      ],
      "metadata": {
        "id": "l0IswLJG6I6-"
      }
    },
    {
      "cell_type": "code",
      "source": [
        "X = np.array([-20, -5, 1, 5, 20, 55, 76], dtype=float)\n",
        "y = np.array([-10,35,53,65,110,215,278], dtype = float)"
      ],
      "metadata": {
        "id": "kmXeuS0W50Ei"
      },
      "execution_count": null,
      "outputs": []
    },
    {
      "cell_type": "markdown",
      "source": [
        "# Defining Our Model\n",
        "**Model and Layer Specification**\n",
        "We need to first instantiate (create and instance) a layer by calling tf.keras.layers.Dense\n",
        "- input_shape=[1] - Value of 1 specify that we are only taking a single value to this layer. In our case, X.\n",
        "- units = 1 - Value of 1 specify that we are informing keras we are creating a neural network with only one neuron (some time called internal variable). The more complex a problem is, the more neuron you will need to learn the pattern. You may need more than a layer as well.\n",
        "- For our problem, we only have one layer. The input_shape then is also our first layer. With us specifying it as 1 then, we are defining our neural network to take only a single value, which is a floating point number. Similarly, as this is our only layer, it is also our final layer. The \"units\" specify the number of output from our neural network - a single value, which is a single floating point number. One need to take care in a multi-layered network, the size and shape of the output layer as defined by \"units\" would need to match the \"input_shape\" of the next layer.\n"
      ],
      "metadata": {
        "id": "feE1PGrQ6MVY"
      }
    },
    {
      "cell_type": "markdown",
      "source": [
        "We can define this way:"
      ],
      "metadata": {
        "id": "acoTwfUHLjX1"
      }
    },
    {
      "cell_type": "code",
      "source": [
        "layer_1 = tf.keras.layers.Dense(units=1, input_shape=[1])\n",
        "model = tf.keras.Sequential([layer_1])"
      ],
      "metadata": {
        "id": "68But_wL6Omt"
      },
      "execution_count": null,
      "outputs": []
    },
    {
      "cell_type": "markdown",
      "source": [
        "or this way:"
      ],
      "metadata": {
        "id": "LXr7DXoGMIEd"
      }
    },
    {
      "cell_type": "code",
      "source": [
        "model = tf.keras.Sequential([tf.keras.layers.Dense(units=1, input_shape=[1])])"
      ],
      "metadata": {
        "id": "2Lz6cFJUMKGm"
      },
      "execution_count": null,
      "outputs": []
    },
    {
      "cell_type": "markdown",
      "source": [
        "# Compile Model\n",
        "We need to compile our neural network with further parameters:\n",
        "- Loss function: the loss function is a performance metric. It is used to measure the errors of our model against the actual outcome. It is called the loss function because the difference between our prediction and actial is called \"loss\"\n",
        "- Optimizer function: this is the mathematic function that is used to adjust the model parameters to improve prediction accuracy."
      ],
      "metadata": {
        "id": "qlED-L_jMpWJ"
      }
    },
    {
      "cell_type": "code",
      "source": [
        "learning_rate = 0.1\n",
        "model.compile(loss='mean_squared_error',\n",
        "              optimizer=tf.keras.optimizers.Adam(learning_rate))"
      ],
      "metadata": {
        "id": "4Kq_mcfLM-jN"
      },
      "execution_count": null,
      "outputs": []
    },
    {
      "cell_type": "markdown",
      "source": [
        "The learning rate (0.01 in our code) specified the step size taken by the optimizer when adjusting values in the model. there are no hard and fast rules with this. It will involve some trial and error. If it is too small, it will take too long and our model might not have converged yet when the training stopped as specified by the epoch variable. If it is too large, it might not converge at all. The typical range is usually between 0.001 (default value) and 0.1"
      ],
      "metadata": {
        "id": "Zk7HzhISNNth"
      }
    },
    {
      "cell_type": "markdown",
      "source": [
        "# Training the Model\n",
        "We can now proceed to train our model by calling the \"fit\" method\n",
        "Recall our actual model was \"y = 3X + 50. The slope 3 and intercept (bias) 50 are two coefficients that we are asking the neural network to estimate.\n",
        "- the neural network starts off with a random value (also called weights) and use it and the input X to compute y. As the weights started off with a random value, the prediction will start off with large errors\n",
        "- The loss value is calculated using the loss function taking the prediction and actual value into account.\n",
        "- The optimizer then makes slight adjustments (according to the learning rate) to the weights with the goal of reducing the loss.\n",
        "- One epoch is the full iteration of the examples we have seen. i.e., all our data.\n",
        "**Parameters**\n",
        "- Input, X, in our case\n",
        "- Output, y, in our case\n",
        "- epochs specifies how many cycles should be run\n",
        "- verbose argument controls how much output the fit method is displayed on the console."
      ],
      "metadata": {
        "id": "ZQ5hoZtkNhhm"
      }
    },
    {
      "cell_type": "code",
      "source": [
        "history = model.fit(X, y, epochs=1000, verbose = False)"
      ],
      "metadata": {
        "id": "zdxfPMOdOcu6"
      },
      "execution_count": null,
      "outputs": []
    },
    {
      "cell_type": "markdown",
      "source": [
        "# Visualize Model Training\n",
        "- The fit method returned the training history statistics. We can access it via \"history\"\n",
        "- High loss means high error\n",
        "- By plotting it over epoch, we can visualize the error / accuracy over epoch\n"
      ],
      "metadata": {
        "id": "siJX5dmMOjJZ"
      }
    },
    {
      "cell_type": "code",
      "source": [
        "import matplotlib.pyplot as plt\n",
        "plt.xlabel('Epoch Number')\n",
        "plt.ylabel('Loss Magnitude')\n",
        "plt.plot(history.history['loss'])"
      ],
      "metadata": {
        "colab": {
          "base_uri": "https://localhost:8080/",
          "height": 472
        },
        "id": "xjlYQxXvOiw3",
        "outputId": "bd4267a6-2cf9-4366-98f7-028e1b4de86d"
      },
      "execution_count": null,
      "outputs": [
        {
          "output_type": "execute_result",
          "data": {
            "text/plain": [
              "[<matplotlib.lines.Line2D at 0x7e1bd81e0190>]"
            ]
          },
          "metadata": {},
          "execution_count": 8
        },
        {
          "output_type": "display_data",
          "data": {
            "text/plain": [
              "<Figure size 640x480 with 1 Axes>"
            ],
            "image/png": "[encoded data removed]"
          },
          "metadata": {}
        }
      ]
    },
    {
      "cell_type": "markdown",
      "source": [
        "# Looking Under the Hood\n"
      ],
      "metadata": {
        "id": "o0--cDLZPHPB"
      }
    },
    {
      "cell_type": "code",
      "source": [
        "print(model.predict([100.0]))"
      ],
      "metadata": {
        "colab": {
          "base_uri": "https://localhost:8080/"
        },
        "id": "rgys9IuFPKC5",
        "outputId": "f9ecc645-565e-47c3-9deb-2f5b23e87e2f"
      },
      "execution_count": null,
      "outputs": [
        {
          "output_type": "stream",
          "name": "stdout",
          "text": [
            "1/1 [==============================] - 0s 160ms/step\n",
            "[[350.7672]]\n"
          ]
        }
      ]
    },
    {
      "cell_type": "code",
      "source": [
        "model.get_weights()"
      ],
      "metadata": {
        "colab": {
          "base_uri": "https://localhost:8080/"
        },
        "id": "dLilmye5POND",
        "outputId": "27fbe892-0a06-4e69-ea59-2cc77df95b06"
      },
      "execution_count": null,
      "outputs": [
        {
          "output_type": "execute_result",
          "data": {
            "text/plain": [
              "[array([[3.0280418]], dtype=float32), array([47.962997], dtype=float32)]"
            ]
          },
          "metadata": {},
          "execution_count": 10
        }
      ]
    },
    {
      "cell_type": "markdown",
      "source": [
        "Recall y = 3X + 50. We are asking the neural network to estimate 3 (first variable) and 50 (second variable)."
      ],
      "metadata": {
        "id": "Kn07j4liPTF2"
      }
    }
  ]
}